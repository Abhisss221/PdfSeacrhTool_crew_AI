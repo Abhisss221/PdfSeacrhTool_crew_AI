{
 "cells": [
  {
   "cell_type": "code",
   "execution_count": 1,
   "id": "99ef1fc4-d8a7-4e19-9770-2375b5da771c",
   "metadata": {},
   "outputs": [],
   "source": [
    "# Warning control\n",
    "import warnings\n",
    "warnings.filterwarnings('ignore')"
   ]
  },
  {
   "cell_type": "code",
   "execution_count": 2,
   "id": "33974594-12e8-439f-9275-7c94b923ce1e",
   "metadata": {},
   "outputs": [],
   "source": [
    "from langchain_openai import ChatOpenAI\n",
    "import os\n",
    "from crewai_tools import PDFSearchTool"
   ]
  },
  {
   "cell_type": "code",
   "execution_count": 3,
   "id": "286c745d-f6df-439c-8fd8-9724693b9391",
   "metadata": {},
   "outputs": [],
   "source": [
    "import os\n",
    "\n",
    "# Set the API key\n",
    "os.environ['GROQ_API_KEY'] = 'Api key '"
   ]
  },
  {
   "cell_type": "code",
   "execution_count": 4,
   "id": "d925ab06-adb7-4ccf-a5b8-585f92ac61ac",
   "metadata": {},
   "outputs": [],
   "source": [
    "llm = ChatOpenAI(\n",
    "    openai_api_base=\"https://api.groq.com/openai/v1\",\n",
    "    openai_api_key=os.environ['GROQ_API_KEY'],\n",
    "    model_name=\"llama3-8b-8192\",\n",
    "    temperature=0.1,\n",
    "    max_tokens=1000,\n",
    ")"
   ]
  },
  {
   "cell_type": "code",
   "execution_count": 5,
   "id": "1ee22491-7ee6-4b17-a600-a29804252d5b",
   "metadata": {},
   "outputs": [
    {
     "name": "stderr",
     "output_type": "stream",
     "text": [
      "C:\\Users\\Abhishek\\.conda\\envs\\ai_agentic\\Lib\\site-packages\\embedchain\\embedder\\huggingface.py:34: LangChainDeprecationWarning: The class `HuggingFaceEmbeddings` was deprecated in LangChain 0.2.2 and will be removed in 1.0. An updated version of the class exists in the :class:`~langchain-huggingface package and should be used instead. To use it run `pip install -U :class:`~langchain-huggingface` and import as `from :class:`~langchain_huggingface import HuggingFaceEmbeddings``.\n",
      "  embeddings = HuggingFaceEmbeddings(model_name=self.config.model, model_kwargs=self.config.model_kwargs)\n",
      "Inserting batches in chromadb: 100%|██████████| 1/1 [00:04<00:00,  4.58s/it]\n"
     ]
    }
   ],
   "source": [
    "rag_tool = PDFSearchTool(pdf='india.pdf',\n",
    "    config=dict(\n",
    "        llm=dict(\n",
    "            provider=\"groq\", # or google, openai, anthropic, llama2, ...\n",
    "            config=dict(\n",
    "                model=\"llama3-8b-8192\",\n",
    "                # temperature=0.5,\n",
    "                # top_p=1,\n",
    "                # stream=true,\n",
    "            ),\n",
    "        ),\n",
    "        embedder=dict(\n",
    "            provider=\"huggingface\", # or openai, ollama, ...\n",
    "            config=dict(\n",
    "                model=\"BAAI/bge-small-en-v1.5\",\n",
    "                #task_type=\"retrieval_document\",\n",
    "                # title=\"Embeddings\",\n",
    "            ),\n",
    "        ),\n",
    "    )\n",
    ")"
   ]
  },
  {
   "cell_type": "code",
   "execution_count": 6,
   "id": "cb29a0cd-8df8-4af9-901f-0e97c3f361c4",
   "metadata": {},
   "outputs": [
    {
     "name": "stdout",
     "output_type": "stream",
     "text": [
      "Using Tool: Search a PDF's content\n"
     ]
    },
    {
     "data": {
      "text/plain": [
       "'Relevant Content:\\nCave 26 of the rock-cut Ajanta Caves During the period 2000–500 BCE, many regions of the subcontinent transitioned from the Chalcolithic cultures to the Iron Age ones.[87] The Vedas, the oldest scriptures associated with Hinduism,[88] were composed during this period,[89] and historians have analysed these to posit a Vedic culture in the Punjab region and the upper Gangetic Plain.[87] Most historians also consider this period to have encompassed several waves of Indo-Aryan migration into the subcontinent from the north-west.[88] The caste system, which created a hierarchy of priests, warriors, and free peasants, but which excluded indigenous peoples by labelling their occupations impure, arose during this period.[90] On the Deccan Plateau, archaeological evidence from this period suggests the existence of a chiefdom stage of political organisation.[87] In South India, a progression to sedentary life is indicated by the large number of megalithic monuments dating from this period,[91]\\n\\nas well as by nearby traces of agriculture, irrigation tanks, and craft traditions.[91] In the late Vedic period, around the 6th century BCE, the small states and chiefdoms of the Ganges Plain and the north-western regions had consolidated into 16 major oligarchies and monarchies that were known as the mahajanapadas.[92][93] The emerging urbanisation gave rise to non-Vedic religious movements, two of which became independent religions. Jainism came into prominence during the life of its exemplar, Mahavira.[94] Buddhism, based on the teachings of Gautama Buddha, attracted followers from all social classes excepting the middle class; chronicling the life of the Buddha was central to the beginnings of recorded history in India.[95][96][97] In an age of increasing urban wealth, both religions held up renunciation as an ideal,[98] and both established long-lasting monastic traditions. Politically, by the 3rd century BCE, the kingdom of Magadha had annexed or reduced other states to emerge\\n\\non varied forms of subsistence, the civilisation engaged robustly in crafts production and wide-ranging trade.[85] Etymology History Ancient India 1/15/25, 11:08 AM India - Wikipedia https:/en.wikipedia.org/wiki/India 3/59'"
      ]
     },
     "execution_count": 6,
     "metadata": {},
     "output_type": "execute_result"
    }
   ],
   "source": [
    "rag_tool.run(\"explain me i brief about Indian history?\")"
   ]
  },
  {
   "cell_type": "code",
   "execution_count": null,
   "id": "b5c01890-75a2-4cf4-904b-d286dbc9fc37",
   "metadata": {},
   "outputs": [],
   "source": []
  }
 ],
 "metadata": {
  "kernelspec": {
   "display_name": "Python 3 (ipykernel)",
   "language": "python",
   "name": "python3"
  },
  "language_info": {
   "codemirror_mode": {
    "name": "ipython",
    "version": 3
   },
   "file_extension": ".py",
   "mimetype": "text/x-python",
   "name": "python",
   "nbconvert_exporter": "python",
   "pygments_lexer": "ipython3",
   "version": "3.12.8"
  }
 },
 "nbformat": 4,
 "nbformat_minor": 5
}
